{
  "nbformat": 4,
  "nbformat_minor": 0,
  "metadata": {
    "colab": {
      "provenance": [],
      "private_outputs": true,
      "gpuType": "T4",
      "include_colab_link": true
    },
    "kernelspec": {
      "name": "python3",
      "display_name": "Python 3"
    },
    "language_info": {
      "name": "python"
    },
    "accelerator": "TPU"
  },
  "cells": [
    {
      "cell_type": "markdown",
      "metadata": {
        "id": "view-in-github",
        "colab_type": "text"
      },
      "source": [
        "<a href=\"https://colab.research.google.com/github/Kushagratandon12/Real-Fake-Image-Classification/blob/main/real_fake_classification.ipynb\" target=\"_parent\"><img src=\"https://colab.research.google.com/assets/colab-badge.svg\" alt=\"Open In Colab\"/></a>"
      ]
    },
    {
      "cell_type": "markdown",
      "source": [
        "## Importing Packages"
      ],
      "metadata": {
        "id": "X6iGaiA6bZe1"
      }
    },
    {
      "cell_type": "code",
      "execution_count": null,
      "metadata": {
        "id": "KI-QlQRzTLWG"
      },
      "outputs": [],
      "source": [
        "import pandas as pd\n",
        "import numpy as np\n",
        "import tensorflow as tf\n",
        "from tensorflow import keras\n",
        "import matplotlib.pyplot as plt \n",
        "from tensorflow.keras.optimizers import RMSprop\n",
        "from tensorflow.keras.preprocessing.image import ImageDataGenerator"
      ]
    },
    {
      "cell_type": "markdown",
      "source": [
        "## Installing Dataset"
      ],
      "metadata": {
        "id": "sQZiFkwHbVPc"
      }
    },
    {
      "cell_type": "code",
      "source": [
        "#Install packages => \n",
        "!pip install kaggle #Install Kaggle\n",
        "!mkdir -p ~/.kaggle # create a directory Kaggle \n",
        "!cp kaggle.json ~/.kaggle/ # copy kaggle.json to above directory \n",
        "!chmod +x ~/.kaggle/kaggle.json # Permission to a particular folder\n",
        "!kaggle datasets download -d birdy654/cifake-real-and-ai-generated-synthetic-images"
      ],
      "metadata": {
        "id": "4Fp9d5wZTYSs"
      },
      "execution_count": null,
      "outputs": []
    },
    {
      "cell_type": "code",
      "source": [
        "!unzip /content/cifake-real-and-ai-generated-synthetic-images.zip"
      ],
      "metadata": {
        "id": "yEUNsMLdbgkT"
      },
      "execution_count": null,
      "outputs": []
    },
    {
      "cell_type": "markdown",
      "source": [
        "## Data Analysis "
      ],
      "metadata": {
        "id": "JUFYbWv3cHpC"
      }
    },
    {
      "cell_type": "code",
      "source": [
        "import glob\n",
        "training_fake_images = glob.glob('/content/train/FAKE/*.jpg')\n",
        "print(len(training_fake_images))\n",
        "\n",
        "traning_real_images = glob.glob('/content/train/REAL/*.jpg')\n",
        "print(len(traning_real_images))"
      ],
      "metadata": {
        "id": "NhNoPaU-bk28"
      },
      "execution_count": null,
      "outputs": []
    },
    {
      "cell_type": "code",
      "source": [
        "def analyse_data(directory_path):\n",
        "    total_fake_images = glob.glob('/content/'+ directory_path + '/FAKE/*.jpg')\n",
        "    total_real_images = glob.glob('/content/' + directory_path + '/REAL/*.jpg')\n",
        "    print(f'{directory_path.upper()} => Real_Images: {len(total_real_images)} , Fake_Images: {len(total_fake_images)}')"
      ],
      "metadata": {
        "id": "fN3a_LHNcXqn"
      },
      "execution_count": null,
      "outputs": []
    },
    {
      "cell_type": "code",
      "source": [
        "analyse_data('test')\n",
        "analyse_data('train')"
      ],
      "metadata": {
        "id": "4QVIb-9Ch66a"
      },
      "execution_count": null,
      "outputs": []
    },
    {
      "cell_type": "code",
      "source": [
        "display = glob.glob('/content/test/FAKE/*.jpg')\n",
        "\n",
        "for i in range(9):\n",
        "    plt.subplot(3,3,i+1)\n",
        "    img = plt.imread(display[i])\n",
        "    plt.imshow(img)"
      ],
      "metadata": {
        "id": "ktMBXxCliB8D"
      },
      "execution_count": null,
      "outputs": []
    },
    {
      "cell_type": "code",
      "source": [
        "display = glob.glob('/content/test/REAL/*.jpg')\n",
        "for i in range(9):\n",
        "    plt.subplot(3,3,i+1)\n",
        "    img = plt.imread(display[i])\n",
        "    plt.imshow(img)\n",
        "    plt.xlabel(img.shape)"
      ],
      "metadata": {
        "id": "kLMVOQa9ilSQ"
      },
      "execution_count": null,
      "outputs": []
    },
    {
      "cell_type": "markdown",
      "source": [
        "## NEURAL NETWORK"
      ],
      "metadata": {
        "id": "bvaO90n0l6mM"
      }
    },
    {
      "cell_type": "code",
      "source": [
        "#DEFINING HYPER-PARAMETERS \n",
        "IMG_SHAPE = (32,32)\n",
        "training_data = '/content/train/'\n",
        "\n",
        "validation_data = '/content/test'"
      ],
      "metadata": {
        "id": "RXzCW2WImkrc"
      },
      "execution_count": null,
      "outputs": []
    },
    {
      "cell_type": "code",
      "source": [
        "image_data_generator = tf.keras.preprocessing.image.ImageDataGenerator(\n",
        "  rescale = 1.0/255.0,\n",
        "  )\n",
        "\n",
        "training_datagen = image_data_generator.flow_from_directory(\n",
        "    training_data,\n",
        "    target_size=(32,32),\n",
        "    shuffle=True,\n",
        ")\n",
        "\n",
        "validation_datagen = image_data_generator.flow_from_directory(\n",
        "    validation_data,\n",
        "    target_size=(32,32),\n",
        "    shuffle = True,\n",
        ")\n"
      ],
      "metadata": {
        "id": "GBp62J7eoSGO"
      },
      "execution_count": null,
      "outputs": []
    },
    {
      "cell_type": "code",
      "source": [
        "# DEFINE A KERAS MODEL TO CLASSIFY CATS V DOGS\n",
        "# USE AT LEAST 3 CONVOLUTION LAYERS\n",
        "model = tf.keras.models.Sequential([\n",
        "#additing the 1st convolution layers\n",
        "tf.keras.layers.Conv2D(32,(3,3) ,activation='relu',input_shape=(32,32,3)), \n",
        "tf.keras.layers.MaxPool2D(2,2),   \n",
        "tf.keras.layers.Flatten(),\n",
        "tf.keras.layers.Dense(64,activation='relu'),\n",
        "tf.keras.layers.Dense(1, activation='sigmoid'),                               \n",
        "# YOUR CODE HERE\n",
        "])\n",
        "model.compile(optimizer='adam', loss='binary_crossentropy', metrics=['accuracy'])\n",
        "model.summary()"
      ],
      "metadata": {
        "id": "ZT4T2Ck0lpSr"
      },
      "execution_count": null,
      "outputs": []
    },
    {
      "cell_type": "code",
      "source": [
        "history = model.fit(\n",
        "  training_datagen,\n",
        "  validation_data=validation_datagen,\n",
        "  epochs=15,\n",
        ")"
      ],
      "metadata": {
        "id": "9ytQsKKpqBTr"
      },
      "execution_count": null,
      "outputs": []
    },
    {
      "cell_type": "code",
      "source": [],
      "metadata": {
        "id": "5XQ70Tlh3TrS"
      },
      "execution_count": null,
      "outputs": []
    }
  ]
}